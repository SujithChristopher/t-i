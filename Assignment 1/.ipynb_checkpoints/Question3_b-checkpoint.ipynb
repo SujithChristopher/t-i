{
 "cells": [
  {
   "cell_type": "code",
   "execution_count": 1,
   "metadata": {},
   "outputs": [],
   "source": [
    "import numpy as np\n",
    "import matplotlib.pyplot as plt\n",
    "import pandas as pd\n",
    "import csv\n",
    "from scipy.optimize import curve_fit\n",
    "from scipy.stats.distributions import  t\n",
    "import seaborn as sns"
   ]
  },
  {
   "cell_type": "code",
   "execution_count": 2,
   "metadata": {},
   "outputs": [],
   "source": [
    "p2 = pd.read_csv('Q3_second_part_data.csv')"
   ]
  },
  {
   "cell_type": "code",
   "execution_count": 3,
   "metadata": {},
   "outputs": [
    {
     "data": {
      "text/html": [
       "<div>\n",
       "<style scoped>\n",
       "    .dataframe tbody tr th:only-of-type {\n",
       "        vertical-align: middle;\n",
       "    }\n",
       "\n",
       "    .dataframe tbody tr th {\n",
       "        vertical-align: top;\n",
       "    }\n",
       "\n",
       "    .dataframe thead th {\n",
       "        text-align: right;\n",
       "    }\n",
       "</style>\n",
       "<table border=\"1\" class=\"dataframe\">\n",
       "  <thead>\n",
       "    <tr style=\"text-align: right;\">\n",
       "      <th></th>\n",
       "      <th>f</th>\n",
       "      <th>v_20d</th>\n",
       "      <th>v_22d</th>\n",
       "      <th>v_24d</th>\n",
       "      <th>v_28d</th>\n",
       "      <th>v_30d</th>\n",
       "      <th>v_32d</th>\n",
       "      <th>v_34d</th>\n",
       "      <th>v_36d</th>\n",
       "      <th>v_38d</th>\n",
       "      <th>v_40d</th>\n",
       "    </tr>\n",
       "  </thead>\n",
       "  <tbody>\n",
       "    <tr>\n",
       "      <th>1</th>\n",
       "      <td>0.0</td>\n",
       "      <td>6.006905827</td>\n",
       "      <td>-2.423679253</td>\n",
       "      <td>-1.722799529</td>\n",
       "      <td>-6.933400103</td>\n",
       "      <td>4.402350146</td>\n",
       "      <td>5.127226165</td>\n",
       "      <td>-2.438079736</td>\n",
       "      <td>1.176198994</td>\n",
       "      <td>0.594977734</td>\n",
       "      <td>16.19796427</td>\n",
       "    </tr>\n",
       "    <tr>\n",
       "      <th>2</th>\n",
       "      <td>1.0</td>\n",
       "      <td>-3.106761297</td>\n",
       "      <td>3.539384952</td>\n",
       "      <td>3.135793254</td>\n",
       "      <td>-2.957198958</td>\n",
       "      <td>9.181497501</td>\n",
       "      <td>8.988834808</td>\n",
       "      <td>5.956020222</td>\n",
       "      <td>10.72079503</td>\n",
       "      <td>1.398080898</td>\n",
       "      <td>10.99186748</td>\n",
       "    </tr>\n",
       "    <tr>\n",
       "      <th>3</th>\n",
       "      <td>2.0</td>\n",
       "      <td>-2.461201398</td>\n",
       "      <td>7.46668575</td>\n",
       "      <td>8.063233487</td>\n",
       "      <td>3.908818507</td>\n",
       "      <td>9.376398329</td>\n",
       "      <td>10.85365658</td>\n",
       "      <td>6.878377871</td>\n",
       "      <td>6.5946179</td>\n",
       "      <td>9.000673466</td>\n",
       "      <td>9.885164868</td>\n",
       "    </tr>\n",
       "    <tr>\n",
       "      <th>4</th>\n",
       "      <td>3.0</td>\n",
       "      <td>2.610435387</td>\n",
       "      <td>3.308725995</td>\n",
       "      <td>13.58262318</td>\n",
       "      <td>4.24332935</td>\n",
       "      <td>3.220049265</td>\n",
       "      <td>3.353392541</td>\n",
       "      <td>11.62082585</td>\n",
       "      <td>16.10695551</td>\n",
       "      <td>20.59429028</td>\n",
       "      <td>22.64298299</td>\n",
       "    </tr>\n",
       "    <tr>\n",
       "      <th>5</th>\n",
       "      <td>4.0</td>\n",
       "      <td>0.222915629</td>\n",
       "      <td>3.810135577</td>\n",
       "      <td>-9.309103593</td>\n",
       "      <td>13.37303825</td>\n",
       "      <td>13.63587884</td>\n",
       "      <td>12.51947226</td>\n",
       "      <td>19.91945165</td>\n",
       "      <td>16.10564786</td>\n",
       "      <td>21.90660563</td>\n",
       "      <td>18.14079966</td>\n",
       "    </tr>\n",
       "    <tr>\n",
       "      <th>...</th>\n",
       "      <td>...</td>\n",
       "      <td>...</td>\n",
       "      <td>...</td>\n",
       "      <td>...</td>\n",
       "      <td>...</td>\n",
       "      <td>...</td>\n",
       "      <td>...</td>\n",
       "      <td>...</td>\n",
       "      <td>...</td>\n",
       "      <td>...</td>\n",
       "      <td>...</td>\n",
       "    </tr>\n",
       "    <tr>\n",
       "      <th>96</th>\n",
       "      <td>95.0</td>\n",
       "      <td>6.562904759</td>\n",
       "      <td>49.72346432</td>\n",
       "      <td>79.81869583</td>\n",
       "      <td>157.7428474</td>\n",
       "      <td>207.8793925</td>\n",
       "      <td>243.1154874</td>\n",
       "      <td>276.7808167</td>\n",
       "      <td>324.1662774</td>\n",
       "      <td>359.4739022</td>\n",
       "      <td>396.813557</td>\n",
       "    </tr>\n",
       "    <tr>\n",
       "      <th>97</th>\n",
       "      <td>96.0</td>\n",
       "      <td>9.007491572</td>\n",
       "      <td>43.21648247</td>\n",
       "      <td>87.47228247</td>\n",
       "      <td>165.6245551</td>\n",
       "      <td>208.6206138</td>\n",
       "      <td>236.790158</td>\n",
       "      <td>287.9101194</td>\n",
       "      <td>323.5151864</td>\n",
       "      <td>350.0001343</td>\n",
       "      <td>390.5850987</td>\n",
       "    </tr>\n",
       "    <tr>\n",
       "      <th>98</th>\n",
       "      <td>97.0</td>\n",
       "      <td>12.03388393</td>\n",
       "      <td>47.35557317</td>\n",
       "      <td>87.22951431</td>\n",
       "      <td>166.5920236</td>\n",
       "      <td>206.4196747</td>\n",
       "      <td>241.9564881</td>\n",
       "      <td>272.9193761</td>\n",
       "      <td>341.7868454</td>\n",
       "      <td>363.5262394</td>\n",
       "      <td>407.4387574</td>\n",
       "    </tr>\n",
       "    <tr>\n",
       "      <th>99</th>\n",
       "      <td>98.0</td>\n",
       "      <td>7.384459586</td>\n",
       "      <td>62.02480688</td>\n",
       "      <td>86.17742592</td>\n",
       "      <td>168.0524904</td>\n",
       "      <td>202.459576</td>\n",
       "      <td>243.3556196</td>\n",
       "      <td>292.8882799</td>\n",
       "      <td>330.8531526</td>\n",
       "      <td>369.5762804</td>\n",
       "      <td>403.1583333</td>\n",
       "    </tr>\n",
       "    <tr>\n",
       "      <th>100</th>\n",
       "      <td>99.0</td>\n",
       "      <td>6.73246141</td>\n",
       "      <td>56.0909217</td>\n",
       "      <td>86.26760537</td>\n",
       "      <td>171.3225548</td>\n",
       "      <td>208.9561533</td>\n",
       "      <td>249.6213226</td>\n",
       "      <td>286.9346059</td>\n",
       "      <td>323.9530022</td>\n",
       "      <td>366.754561</td>\n",
       "      <td>407.6005699</td>\n",
       "    </tr>\n",
       "  </tbody>\n",
       "</table>\n",
       "<p>100 rows × 11 columns</p>\n",
       "</div>"
      ],
      "text/plain": [
       "        f         v_20d         v_22d         v_24d         v_28d  \\\n",
       "1     0.0   6.006905827  -2.423679253  -1.722799529  -6.933400103   \n",
       "2     1.0  -3.106761297   3.539384952   3.135793254  -2.957198958   \n",
       "3     2.0  -2.461201398    7.46668575   8.063233487   3.908818507   \n",
       "4     3.0   2.610435387   3.308725995   13.58262318    4.24332935   \n",
       "5     4.0   0.222915629   3.810135577  -9.309103593   13.37303825   \n",
       "..    ...           ...           ...           ...           ...   \n",
       "96   95.0   6.562904759   49.72346432   79.81869583   157.7428474   \n",
       "97   96.0   9.007491572   43.21648247   87.47228247   165.6245551   \n",
       "98   97.0   12.03388393   47.35557317   87.22951431   166.5920236   \n",
       "99   98.0   7.384459586   62.02480688   86.17742592   168.0524904   \n",
       "100  99.0    6.73246141    56.0909217   86.26760537   171.3225548   \n",
       "\n",
       "           v_30d        v_32d         v_34d        v_36d        v_38d  \\\n",
       "1    4.402350146  5.127226165  -2.438079736  1.176198994  0.594977734   \n",
       "2    9.181497501  8.988834808   5.956020222  10.72079503  1.398080898   \n",
       "3    9.376398329  10.85365658   6.878377871    6.5946179  9.000673466   \n",
       "4    3.220049265  3.353392541   11.62082585  16.10695551  20.59429028   \n",
       "5    13.63587884  12.51947226   19.91945165  16.10564786  21.90660563   \n",
       "..           ...          ...           ...          ...          ...   \n",
       "96   207.8793925  243.1154874   276.7808167  324.1662774  359.4739022   \n",
       "97   208.6206138   236.790158   287.9101194  323.5151864  350.0001343   \n",
       "98   206.4196747  241.9564881   272.9193761  341.7868454  363.5262394   \n",
       "99    202.459576  243.3556196   292.8882799  330.8531526  369.5762804   \n",
       "100  208.9561533  249.6213226   286.9346059  323.9530022   366.754561   \n",
       "\n",
       "           v_40d  \n",
       "1    16.19796427  \n",
       "2    10.99186748  \n",
       "3    9.885164868  \n",
       "4    22.64298299  \n",
       "5    18.14079966  \n",
       "..           ...  \n",
       "96    396.813557  \n",
       "97   390.5850987  \n",
       "98   407.4387574  \n",
       "99   403.1583333  \n",
       "100  407.6005699  \n",
       "\n",
       "[100 rows x 11 columns]"
      ]
     },
     "execution_count": 3,
     "metadata": {},
     "output_type": "execute_result"
    }
   ],
   "source": [
    "df = p2[1:]\n",
    "df = df.rename(columns={'Force(N)': 'f', \"Voltage(mv)\": \"v_20d\", \"Unnamed: 2\": \"v_22d\", \"Unnamed: 3\": \"v_24d\",\n",
    "                        \"Unnamed: 4\": \"v_28d\", \"Unnamed: 5\": \"v_30d\", \"Unnamed: 6\": \"v_32d\", \"Unnamed: 7\": \"v_34d\",\n",
    "                        \"Unnamed: 8\": \"v_36d\", \"Unnamed: 9\": \"v_38d\", \"Unnamed: 10\": \"v_40d\"})\n",
    "df"
   ]
  },
  {
   "cell_type": "code",
   "execution_count": 4,
   "metadata": {},
   "outputs": [],
   "source": [
    "cols = df.columns[1:]\n",
    "\n",
    "def func(x, a, b):\n",
    "        return a*x + b\n",
    "\n",
    "_params = []\n",
    "_params_cov = []\n",
    "_a2 = []\n",
    "\n",
    "for i in cols:\n",
    "    _val = df[i].astype(float)\n",
    "    \n",
    "    # param, param_cov = curve_fit(func, _val, df[\"f\"])\n",
    "    param, param_cov = curve_fit(func, df[\"f\"], _val)\n",
    "    _params.append(param)\n",
    "    _params_cov.append(param_cov)\n",
    "\n",
    "for i in _params:\n",
    "    _a2.append(i[0]) # a2 coefficient for each column in linear fit\n",
    "\n",
    "_col_num = [20, 22, 24, 28, 30, 32, 34, 36, 38, 40]\n",
    "\n",
    "# _col_num = _col_num[2:] # if we are not considering 20 and 22\n",
    "# _a2 = _a2[2:]"
   ]
  },
  {
   "cell_type": "code",
   "execution_count": 5,
   "metadata": {},
   "outputs": [
    {
     "data": {
      "image/png": "[encoded data removed]",
      "text/plain": [
       "<Figure size 640x480 with 1 Axes>"
      ]
     },
     "metadata": {},
     "output_type": "display_data"
    },
    {
     "data": {
      "text/plain": [
       "array([ 0.19982715, -3.89377181])"
      ]
     },
     "execution_count": 5,
     "metadata": {},
     "output_type": "execute_result"
    }
   ],
   "source": [
    "param_t, param_cov_t = curve_fit(func, _col_num, _a2)\n",
    "\n",
    "_a2 = np.array(_a2)\n",
    "_col_num = np.array(_col_num)\n",
    "ans = param_t[0]*_col_num + param_t[1]\n",
    "\n",
    "plt.plot(_col_num, _a2, 'o', color ='red', label =\"data\")\n",
    "plt.plot(_col_num, ans, '--', color ='blue', label =\"optimized data with outliers\")\n",
    "plt.legend()\n",
    "plt.show()\n",
    "param_t"
   ]
  },
  {
   "cell_type": "code",
   "execution_count": 11,
   "metadata": {},
   "outputs": [
    {
     "name": "stdout",
     "output_type": "stream",
     "text": [
      "The force is:  25.920893318868856\n"
     ]
    },
    {
     "data": {
      "text/plain": [
       "array([3.34050096, 1.12537046])"
      ]
     },
     "execution_count": 11,
     "metadata": {},
     "output_type": "execute_result"
    }
   ],
   "source": [
    "_coeff33 = param_t[0]*33 + param_t[1]\n",
    "_volt = 67.0\n",
    "c1 = 3\n",
    "_f = (_volt + c1)/_coeff33\n",
    "print(\"The force is: \", _f)\n"
   ]
  },
  {
   "cell_type": "code",
   "execution_count": 17,
   "metadata": {},
   "outputs": [
    {
     "name": "stdout",
     "output_type": "stream",
     "text": [
      "0.9090893476364842\n",
      "-0.9090893476364842\n"
     ]
    }
   ],
   "source": [
    "_voltage_values = [2.1, 10.5, 67.0, 34.3, 11.3, 88.9]\n",
    "\n",
    "_force_33 = []\n",
    "_force_39 = []\n",
    "\n",
    "_c = _params[7][1]\n",
    "\n",
    "for i in _voltage_values:\n",
    "    \"\"\"calculate for 33 degrees\"\"\"\n",
    "    _tmp = param_t[0]*33 + param_t[1]\n",
    "    _volt = i\n",
    "    _f = (_volt - _c)/_tmp\n",
    "    _force_33.append(_f)\n",
    "    \n",
    "    \"\"\"calculate for 39 degrees\"\"\"\n",
    "    _tmp = param_t[0]*39 + param_t[1]\n",
    "    _volt = i\n",
    "    _f = (_volt - _c)/_tmp\n",
    "    _force_39.append(_f)\n",
    "    \n",
    "\"\"\"calculate deviation\"\"\"\n",
    "\n",
    "_tmp = param_t[0]*36 + param_t[1]\n",
    "_volt = 3\n",
    "_f = _volt/_tmp\n",
    "print(_f)\n",
    "print(-_f)"
   ]
  },
  {
   "cell_type": "code",
   "execution_count": 19,
   "metadata": {},
   "outputs": [
    {
     "data": {
      "text/plain": [
       "[0.24993787773652817,\n",
       " 2.4040673137746573,\n",
       " 16.89315221093588,\n",
       " 8.507434049216021,\n",
       " 2.6092224981592413,\n",
       " 22.509275383463862]"
      ]
     },
     "execution_count": 19,
     "metadata": {},
     "output_type": "execute_result"
    }
   ],
   "source": [
    "_force_39"
   ]
  },
  {
   "cell_type": "code",
   "execution_count": 20,
   "metadata": {},
   "outputs": [
    {
     "data": {
      "text/plain": [
       "[0.3609038318738258,\n",
       " 3.4714110301380887,\n",
       " 24.393274923225093,\n",
       " 12.284514758553499,\n",
       " 3.7676498109251617,\n",
       " 32.50281154727121]"
      ]
     },
     "execution_count": 20,
     "metadata": {},
     "output_type": "execute_result"
    }
   ],
   "source": [
    "_force_33"
   ]
  },
  {
   "cell_type": "code",
   "execution_count": 21,
   "metadata": {},
   "outputs": [
    {
     "data": {
      "text/plain": [
       "1.1253704638806696"
      ]
     },
     "execution_count": 21,
     "metadata": {},
     "output_type": "execute_result"
    }
   ],
   "source": [
    "_c"
   ]
  },
  {
   "cell_type": "code",
   "execution_count": null,
   "metadata": {},
   "outputs": [],
   "source": []
  }
 ],
 "metadata": {
  "kernelspec": {
   "display_name": "Python 3 (ipykernel)",
   "language": "python",
   "name": "python3"
  },
  "language_info": {
   "codemirror_mode": {
    "name": "ipython",
    "version": 3
   },
   "file_extension": ".py",
   "mimetype": "text/x-python",
   "name": "python",
   "nbconvert_exporter": "python",
   "pygments_lexer": "ipython3",
   "version": "3.7.11"
  },
  "vscode": {
   "interpreter": {
    "hash": "5e150188acfe9ffecc9060698e0419ffeeaf23b924b6dc14c3c2ca6e878e68e6"
   }
  }
 },
 "nbformat": 4,
 "nbformat_minor": 2
}
